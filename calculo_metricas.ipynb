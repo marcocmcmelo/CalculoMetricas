{
  "nbformat": 4,
  "nbformat_minor": 0,
  "metadata": {
    "colab": {
      "provenance": [],
      "authorship_tag": "ABX9TyN1UdmXKZ0UrZUQnTmLTQaz",
      "include_colab_link": true
    },
    "kernelspec": {
      "name": "python3",
      "display_name": "Python 3"
    },
    "language_info": {
      "name": "python"
    }
  },
  "cells": [
    {
      "cell_type": "markdown",
      "metadata": {
        "id": "view-in-github",
        "colab_type": "text"
      },
      "source": [
        "<a href=\"https://colab.research.google.com/github/marcocmcmelo/CalculoMetricas/blob/main/calculo_metricas.ipynb\" target=\"_parent\"><img src=\"https://colab.research.google.com/assets/colab-badge.svg\" alt=\"Open In Colab\"/></a>"
      ]
    },
    {
      "cell_type": "code",
      "execution_count": 1,
      "metadata": {
        "colab": {
          "base_uri": "https://localhost:8080/"
        },
        "id": "YLC2owA9PTQ1",
        "outputId": "cc25a723-a5bb-4c77-bdb6-db1b0e1d8391"
      },
      "outputs": [
        {
          "output_type": "stream",
          "name": "stdout",
          "text": [
            "📊 Cálculo de Métricas de Avaliação com Dados Reais\n",
            "============================================================\n",
            "Conjunto de dados: Breast Cancer (Câncer de Mama - Benigno vs Maligno)\n",
            "Total de amostras de teste: 171\n",
            "------------------------------------------------------------\n",
            "Matriz de Confusão:\n",
            "  Verdadeiros Positivos (TP): 105\n",
            "  Falsos Positivos (FP):     8\n",
            "  Falsos Negativos (FN):     2\n",
            "  Verdadeiros Negativos (TN): 56\n",
            "------------------------------------------------------------\n",
            "🔍 Métricas Calculadas Manualmente:\n",
            "  Acurácia:        0.9415 (94.15%)\n",
            "  Sensibilidade:   0.9813 (98.13%)\n",
            "  Especificidade:  0.8750 (87.50%)\n",
            "  Precisão:        0.9292 (92.92%)\n",
            "  F1-Score:        0.9545 (95.45%)\n",
            "------------------------------------------------------------\n",
            "🧪 Métricas com scikit-learn (validação):\n",
            "  Acurácia:        0.9415 (94.15%)\n",
            "  Sensibilidade:   0.9813 (98.13%)\n",
            "  Precisão:        0.9292 (92.92%)\n",
            "  F1-Score:        0.9545 (95.45%)\n",
            "============================================================\n"
          ]
        },
        {
          "output_type": "stream",
          "name": "stderr",
          "text": [
            "/usr/local/lib/python3.11/dist-packages/sklearn/linear_model/_logistic.py:465: ConvergenceWarning: lbfgs failed to converge (status=1):\n",
            "STOP: TOTAL NO. OF ITERATIONS REACHED LIMIT.\n",
            "\n",
            "Increase the number of iterations (max_iter) or scale the data as shown in:\n",
            "    https://scikit-learn.org/stable/modules/preprocessing.html\n",
            "Please also refer to the documentation for alternative solver options:\n",
            "    https://scikit-learn.org/stable/modules/linear_model.html#logistic-regression\n",
            "  n_iter_i = _check_optimize_result(\n"
          ]
        }
      ],
      "source": [
        "# -*- coding: utf-8 -*-\n",
        "\"\"\"\n",
        "Projeto: Cálculo de Métricas de Avaliação com Dados Reais\n",
        "Integração com scikit-learn: modelo + matriz de confusão + métricas\n",
        "\"\"\"\n",
        "\n",
        "# Importando bibliotecas necessárias\n",
        "from sklearn.datasets import load_breast_cancer\n",
        "from sklearn.model_selection import train_test_split\n",
        "from sklearn.linear_model import LogisticRegression\n",
        "from sklearn.metrics import confusion_matrix\n",
        "import numpy as np\n",
        "\n",
        "# 1. Carregar o conjunto de dados\n",
        "data = load_breast_cancer()\n",
        "X, y = data.data, data.target  # Características e rótulos\n",
        "\n",
        "# 2. Dividir em treino e teste\n",
        "X_train, X_test, y_train, y_test = train_test_split(\n",
        "    X, y, test_size=0.3, random_state=42, stratify=y\n",
        ")\n",
        "\n",
        "# 3. Treinar um modelo (ex: Regressão Logística)\n",
        "model = LogisticRegression(max_iter=1000, random_state=42)\n",
        "model.fit(X_train, y_train)\n",
        "\n",
        "# 4. Fazer previsões no conjunto de teste\n",
        "y_pred = model.predict(X_test)\n",
        "\n",
        "# 5. Gerar matriz de confusão\n",
        "tn, fp, fn, tp = confusion_matrix(y_test, y_pred).ravel()\n",
        "\n",
        "print(\"📊 Cálculo de Métricas de Avaliação com Dados Reais\")\n",
        "print(\"=\"*60)\n",
        "print(\"Conjunto de dados: Breast Cancer (Câncer de Mama - Benigno vs Maligno)\")\n",
        "print(f\"Total de amostras de teste: {len(y_test)}\")\n",
        "print(\"-\"*60)\n",
        "print(\"Matriz de Confusão:\")\n",
        "print(f\"  Verdadeiros Positivos (TP): {tp}\")\n",
        "print(f\"  Falsos Positivos (FP):     {fp}\")\n",
        "print(f\"  Falsos Negativos (FN):     {fn}\")\n",
        "print(f\"  Verdadeiros Negativos (TN): {tn}\")\n",
        "print(\"-\"*60)\n",
        "\n",
        "# Funções de métricas (repetidas aqui para clareza)\n",
        "def acuracia(tp, tn, fp, fn):\n",
        "    total = tp + tn + fp + fn\n",
        "    return (tp + tn) / total if total != 0 else 0\n",
        "\n",
        "def sensibilidade(tp, fn):\n",
        "    total_pos = tp + fn\n",
        "    return tp / total_pos if total_pos != 0 else 0\n",
        "\n",
        "def especificidade(tn, fp):\n",
        "    total_neg = tn + fp\n",
        "    return tn / total_neg if total_neg != 0 else 0\n",
        "\n",
        "def precisao(tp, fp):\n",
        "    total_prev_pos = tp + fp\n",
        "    return tp / total_prev_pos if total_prev_pos != 0 else 0\n",
        "\n",
        "def f1_score(tp, fp, fn):\n",
        "    prec = precisao(tp, fp)\n",
        "    rec = sensibilidade(tp, fn)\n",
        "    return 2 * (prec * rec) / (prec + rec) if (prec + rec) != 0 else 0\n",
        "\n",
        "# 6. Calcular métricas manualmente\n",
        "acc = acuracia(tp, tn, fp, fn)\n",
        "sen = sensibilidade(tp, fn)\n",
        "esp = especificidade(tn, fp)\n",
        "prec = precisao(tp, fp)\n",
        "f1 = f1_score(tp, fp, fn)\n",
        "\n",
        "# Exibir resultados calculados manualmente\n",
        "print(\"🔍 Métricas Calculadas Manualmente:\")\n",
        "print(f\"  Acurácia:        {acc:.4f} ({acc:.2%})\")\n",
        "print(f\"  Sensibilidade:   {sen:.4f} ({sen:.2%})\")\n",
        "print(f\"  Especificidade:  {esp:.4f} ({esp:.2%})\")\n",
        "print(f\"  Precisão:        {prec:.4f} ({prec:.2%})\")\n",
        "print(f\"  F1-Score:        {f1:.4f} ({f1:.2%})\")\n",
        "print(\"-\"*60)\n",
        "\n",
        "# (Opcional) Comparar com métricas do scikit-learn\n",
        "from sklearn.metrics import accuracy_score, recall_score, precision_score, f1_score as f1_sklearn\n",
        "\n",
        "print(\"🧪 Métricas com scikit-learn (validação):\")\n",
        "print(f\"  Acurácia:        {accuracy_score(y_test, y_pred):.4f} ({accuracy_score(y_test, y_pred):.2%})\")\n",
        "print(f\"  Sensibilidade:   {recall_score(y_test, y_pred):.4f} ({recall_score(y_test, y_pred):.2%})\")\n",
        "print(f\"  Precisão:        {precision_score(y_test, y_pred):.4f} ({precision_score(y_test, y_pred):.2%})\")\n",
        "print(f\"  F1-Score:        {f1_sklearn(y_test, y_pred):.4f} ({f1_sklearn(y_test, y_pred):.2%})\")\n",
        "print(\"=\"*60)"
      ]
    }
  ]
}